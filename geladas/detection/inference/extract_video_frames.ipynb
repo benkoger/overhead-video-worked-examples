{
 "cells": [
  {
   "cell_type": "markdown",
   "id": "1bd2790a",
   "metadata": {},
   "source": [
    "# Extract frames from videos"
   ]
  },
  {
   "cell_type": "markdown",
   "id": "7780b05a-7350-4b7f-a601-021cb0f98d8f",
   "metadata": {},
   "source": [
    "At multiple points in the method, we rely on having access to each individual frame in the observation video (during object detection, drone movement calculations, and 3D landscape reconstruction). In this notebook we extract and save all frames from an observation and save them as individual image files"
   ]
  },
  {
   "cell_type": "code",
   "execution_count": 1,
   "id": "406b0675",
   "metadata": {},
   "outputs": [],
   "source": [
    "import os\n",
    "import glob\n",
    "import time\n",
    "\n",
    "import cv2\n",
    "from imutils.video import FileVideoStream\n",
    "import json\n",
    "import numpy as np\n",
    "\n",
    "geladas_root = os.path.dirname(os.path.dirname(os.getcwd()))\n",
    "local_paths_file = os.path.join(geladas_root, 'local-paths.json')\n",
    "with open(local_paths_file, \"r\") as json_file:\n",
    "    local_paths = json.load(json_file)"
   ]
  },
  {
   "cell_type": "code",
   "execution_count": null,
   "id": "c79b2200",
   "metadata": {},
   "outputs": [],
   "source": [
    "# Where the videos are stored locally\n",
    "# Extracted frames will also be stored in a subfolder called \"frames/[video name]\" \n",
    "base_folder = local_paths[\"videos_folder\"]\n",
    "\n",
    "# The name of the video we want to extract frames from \n",
    "# (can use glob patterns to specify multiple videos)\n",
    "video_name = \"DJI_0205.MP4\"\n",
    "videos = sorted(glob.glob(os.path.join(base_folder, video_name)))\n",
    "\n",
    "# Should all frames be extracted? If False, specify target frame rate in fps (rounded to nearest integer)\n",
    "extract_all_frames = True\n",
    "target_frame_rate = 30\n",
    "                \n",
    "for video in videos:\n",
    "\n",
    "    num_frames = 0\n",
    "\n",
    "    print(\"[INFO] starting video file thread...\")\n",
    "    fvs = FileVideoStream(video).start()\n",
    "    time.sleep(1.0)\n",
    "\n",
    "    start_time = time.time()         \n",
    "    video_name = os.path.basename(video).split('.')[0]\n",
    "\n",
    "    output_folder = os.path.join(base_folder, \"frames\", video_name)\n",
    "    os.makedirs(output_folder, exist_ok=True)\n",
    "\n",
    "    if not extract_all_frames:\n",
    "        vid = cv2.VideoCapture(video_file)\n",
    "        fps = round(vid.get(cv2.CAP_PROP_FPS))\n",
    "        vid.release()\n",
    "        correction_factor = fps/target_frame_rate\n",
    "\n",
    "    while fvs.more():\n",
    "        frame = fvs.read()\n",
    "        outfile = os.path.join(output_folder, \n",
    "                               f\"{video_name}_{num_frames:06d}.jpg\")\n",
    "        if frame:\n",
    "            if extract_all_frames:\n",
    "                cv2.imwrite(outfile, frame)\n",
    "            else:\n",
    "                if num_frames % correction_factor == 0:\n",
    "                    cv2.imwrite(outfile, frame)\n",
    "        else:\n",
    "            break\n",
    "\n",
    "        if num_frames % 1000 == 0:\n",
    "            print(f\"{num_frames} processed, {np.any(frame)}\")\n",
    "        num_frames += 1\n",
    "        \n",
    "        # Uncomment below lines and specify value for max_frames if only\n",
    "        # want to extract a subset of the frames from the video (maybe to save memory)\n",
    "        # if num_frames > max_frames:\n",
    "        #    break\n",
    "\n",
    "    total_time = time.time() - start_time\n",
    "    print(\"Total time: {:.2f}s\".format(total_time))\n",
    "    print(f\"fps: {max_ims / total_time}\")"
   ]
  },
  {
   "cell_type": "code",
   "execution_count": null,
   "id": "b2991d76",
   "metadata": {},
   "outputs": [],
   "source": []
  }
 ],
 "metadata": {
  "kernelspec": {
   "display_name": "Python 3 (ipykernel)",
   "language": "python",
   "name": "python3"
  },
  "language_info": {
   "codemirror_mode": {
    "name": "ipython",
    "version": 3
   },
   "file_extension": ".py",
   "mimetype": "text/x-python",
   "name": "python",
   "nbconvert_exporter": "python",
   "pygments_lexer": "ipython3",
   "version": "3.9.16"
  }
 },
 "nbformat": 4,
 "nbformat_minor": 5
}
