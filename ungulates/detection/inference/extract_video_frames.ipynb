{
 "cells": [
  {
   "cell_type": "markdown",
   "id": "51111c09",
   "metadata": {},
   "source": [
    "&emsp;&emsp;&emsp;&emsp;&emsp;\n",
    "&emsp;&emsp;&emsp;&emsp;&emsp;\n",
    "&emsp;&emsp;&emsp;&emsp;&emsp;\n",
    "&emsp;&emsp;&emsp;&emsp;&emsp;\n",
    "&emsp;&emsp;&emsp;&emsp;&emsp;\n",
    "&emsp;&emsp;&emsp;&emsp;&emsp;\n",
    "&emsp;&emsp;&emsp;&emsp;&emsp;\n",
    "&emsp;&emsp;&emsp;&emsp;&emsp;\n",
    "&emsp;&emsp;&emsp;&emsp;&emsp;\n",
    "&emsp;&emsp;&emsp;&emsp;&emsp;\n",
    "&emsp;&emsp;&emsp;&emsp;&emsp;\n",
    "&emsp;&emsp;&emsp;&emsp;&emsp;\n",
    "&emsp;&emsp;&emsp;&emsp;&emsp;\n",
    "[Next step: Process video](../inference/process-video.ipynb)"
   ]
  },
  {
   "cell_type": "markdown",
   "id": "712fa513",
   "metadata": {},
   "source": [
    "# Extract video frames\n",
    "This notebook extracts all the frames from the focal video in preparation for processing with the detection model. The frames will also be used for other steps later in the analysis pipeline."
   ]
  },
  {
   "cell_type": "code",
   "execution_count": null,
   "id": "cbaaf686",
   "metadata": {},
   "outputs": [],
   "source": [
    "import glob\n",
    "import json\n",
    "import os\n",
    "import time\n",
    "\n",
    "import cv2\n",
    "from imutils.video import FileVideoStream\n",
    "import numpy as np\n",
    "\n",
    "ungulates_root = os.path.dirname(os.path.dirname(os.getcwd()))\n",
    "local_paths_file = os.path.join(ungulates_root, 'local-paths.json')\n",
    "with open(local_paths_file, \"r\") as json_file:\n",
    "    local_paths = json.load(json_file)"
   ]
  },
  {
   "cell_type": "markdown",
   "id": "2e95205e",
   "metadata": {},
   "source": [
    "### Extract frames from videos"
   ]
  },
  {
   "cell_type": "code",
   "execution_count": null,
   "id": "9c35542e",
   "metadata": {},
   "outputs": [],
   "source": [
    "# Name of observation to extract frames from\n",
    "observation_name = \"observation114\""
   ]
  },
  {
   "cell_type": "code",
   "execution_count": null,
   "id": "4262c6be",
   "metadata": {},
   "outputs": [
    {
     "name": "stdout",
     "output_type": "stream",
     "text": [
      "[INFO] starting video file thread...\n",
      "0 processed, True\n",
      "1000 processed, True\n",
      "2000 processed, True\n",
      "3000 processed, True\n",
      "4000 processed, True\n",
      "5000 processed, True\n",
      "6000 processed, True\n",
      "7000 processed, True\n",
      "8000 processed, True\n",
      "9000 processed, True\n",
      "10000 processed, True\n",
      "11000 processed, True\n",
      "12000 processed, True\n",
      "13000 processed, True\n",
      "14000 processed, True\n",
      "15000 processed, True\n",
      "16000 processed, True\n",
      "17000 processed, True\n",
      "18000 processed, True\n",
      "19000 processed, True\n",
      "Total time: 3313.51s\n",
      "fps: 5.924239277804092\n",
      "[INFO] starting video file thread...\n",
      "0 processed, True\n",
      "1000 processed, True\n",
      "2000 processed, True\n",
      "3000 processed, True\n",
      "4000 processed, True\n",
      "5000 processed, True\n",
      "6000 processed, True\n",
      "7000 processed, True\n",
      "8000 processed, True\n",
      "9000 processed, True\n",
      "10000 processed, True\n",
      "11000 processed, True\n",
      "12000 processed, True\n"
     ]
    }
   ],
   "source": [
    "# Format that frames will be saved in\n",
    "# local_paths['base_frames_folder']\n",
    "#      - observation_name\n",
    "#          - video_clip_name0\n",
    "#                - frame0.jpg\n",
    "#                - frame1.jpg\n",
    "#                - ... .jpg\n",
    "#          - video_clip_name1\n",
    "#                - frame0.jpg\n",
    "#                - frame1.jpg\n",
    "#                - ... .jpg\n",
    "\n",
    "# Base files where frames will be stored:\n",
    "base_output_folder = local_paths['base_frames_folder']\n",
    "\n",
    "video_files = glob.glob(\n",
    "    os.path.join(local_paths[\"videos_folder\"], observation_name, \"*.MOV\")\n",
    ")\n",
    "video_files = sorted(video_files)\n",
    "\n",
    "# Should all frames be extracted? If False, specify target frame rate in fps (rounded to nearest integer)\n",
    "extract_all_frames = False\n",
    "target_frame_rate = 30\n",
    "\n",
    "for video_file in video_files:\n",
    "\n",
    "    num_frames = 0\n",
    "\n",
    "    print(\"[INFO] starting video file thread...\")\n",
    "    fvs = FileVideoStream(video_file).start()\n",
    "    time.sleep(1.0)\n",
    "\n",
    "    start_time = time.time()         \n",
    "    video_name = os.path.basename(video_file).split('.')[0]\n",
    "\n",
    "    output_folder = os.path.join(base_output_folder, observation_name, video_name)\n",
    "    os.makedirs(output_folder, exist_ok=True)\n",
    "    \n",
    "    if not extract_all_frames:\n",
    "        vid = cv2.VideoCapture(video_file)\n",
    "        fps = round(vid.get(cv2.CAP_PROP_FPS))\n",
    "        vid.release()\n",
    "        correction_factor = fps/target_frame_rate\n",
    "\n",
    "    while fvs.more():\n",
    "        frame = fvs.read()\n",
    "        outfile = os.path.join(output_folder, \n",
    "                               f\"{video_name}_{num_frames:06d}.jpg\")\n",
    "        if frame is not None:\n",
    "            if extract_all_frames:\n",
    "                cv2.imwrite(outfile, frame)\n",
    "            else:\n",
    "                if num_frames % correction_factor == 0:\n",
    "                    cv2.imwrite(outfile, frame)\n",
    "        else:\n",
    "            break\n",
    "\n",
    "        if num_frames % 1000 == 0:\n",
    "            print(f\"{num_frames} processed, {np.any(frame)}\")\n",
    "        num_frames += 1\n",
    "\n",
    "    total_time = time.time() - start_time\n",
    "    print(\"Total time: {:.2f}s\".format(total_time))\n",
    "    print(f\"fps: {num_frames / total_time}\")"
   ]
  },
  {
   "cell_type": "markdown",
   "id": "b604e6de",
   "metadata": {},
   "source": [
    "&emsp;&emsp;&emsp;&emsp;&emsp;\n",
    "&emsp;&emsp;&emsp;&emsp;&emsp;\n",
    "&emsp;&emsp;&emsp;&emsp;&emsp;\n",
    "&emsp;&emsp;&emsp;&emsp;&emsp;\n",
    "&emsp;&emsp;&emsp;&emsp;&emsp;\n",
    "&emsp;&emsp;&emsp;&emsp;&emsp;\n",
    "&emsp;&emsp;&emsp;&emsp;&emsp;\n",
    "&emsp;&emsp;&emsp;&emsp;&emsp;\n",
    "&emsp;&emsp;&emsp;&emsp;&emsp;\n",
    "&emsp;&emsp;&emsp;&emsp;&emsp;\n",
    "&emsp;&emsp;&emsp;&emsp;&emsp;\n",
    "&emsp;&emsp;&emsp;&emsp;&emsp;\n",
    "&emsp;&emsp;&emsp;&emsp;&emsp;\n",
    "[Next step: Process video](../inference/process-video.ipynb)"
   ]
  },
  {
   "cell_type": "code",
   "execution_count": null,
   "id": "278e5818",
   "metadata": {},
   "outputs": [],
   "source": []
  }
 ],
 "metadata": {
  "kernelspec": {
   "display_name": "Python 3 (ipykernel)",
   "language": "python",
   "name": "python3"
  },
  "language_info": {
   "codemirror_mode": {
    "name": "ipython",
    "version": 3
   },
   "file_extension": ".py",
   "mimetype": "text/x-python",
   "name": "python",
   "nbconvert_exporter": "python",
   "pygments_lexer": "ipython3",
   "version": "3.8.16"
  }
 },
 "nbformat": 4,
 "nbformat_minor": 5
}
